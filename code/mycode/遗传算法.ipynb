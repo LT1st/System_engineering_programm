{
  "cells": [
    {
      "cell_type": "code",
      "execution_count": 3,
      "metadata": {
        "colab": {
          "base_uri": "https://localhost:8080/"
        },
        "id": "BOSEIr13EE02",
        "outputId": "9ee8cc1b-0841-44ae-ad98-fcd8639c70cc"
      },
      "outputs": [
        {
          "name": "stdout",
          "output_type": "stream",
          "text": [
            "Mounted at /content/drive/\n"
          ]
        }
      ],
      "source": [
        "# 文件保存在google drive\n",
        "# 在colab调用前需要有认证\n",
        "from google.colab import drive\n",
        "drive.mount('/content/drive/')\n",
        "datapath = 'drive/MyDrive/现代优化计算方法/assign100.txt'"
      ]
    },
    {
      "cell_type": "code",
      "execution_count": null,
      "metadata": {},
      "outputs": [],
      "source": [
        "datapath='assign100.txt'"
      ]
    },
    {
      "cell_type": "markdown",
      "metadata": {
        "id": "UnbuobaagfpL"
      },
      "source": [
        "# 文件读取\n"
      ]
    },
    {
      "cell_type": "code",
      "execution_count": 4,
      "metadata": {
        "id": "zMafmMrsFE3G"
      },
      "outputs": [],
      "source": [
        "f=open(datapath)\n",
        "data=f.readlines()  #逐行读取txt并存成list。每行是list的一个元素，数据类型为str\n",
        "l=[]\n",
        "# for i in range(len(data)):  #len(data)为数据行数\n",
        "#     #data.seek(0,0)\n",
        "#     for j in range(len(list(data[0].split()))):   #len(list(data[0].split()))为数据列数\n",
        "#         l.append(data[i].split(' ')[j])"
      ]
    },
    {
      "cell_type": "code",
      "execution_count": 5,
      "metadata": {
        "colab": {
          "base_uri": "https://localhost:8080/"
        },
        "id": "qkcS8HyoFQ3F",
        "outputId": "980ccf3f-6e7f-4bc0-d028-7af88c3b641f"
      },
      "outputs": [
        {
          "data": {
            "text/plain": [
              "100"
            ]
          },
          "execution_count": 5,
          "metadata": {},
          "output_type": "execute_result"
        }
      ],
      "source": [
        "# 使用超参数来保证对于所有此类问题都有解\n",
        "scale = int(data[0].split()[0])\n",
        "scale"
      ]
    },
    {
      "cell_type": "markdown",
      "metadata": {
        "id": "jfPuGJN6GoVT"
      },
      "source": [
        "data[2].replace('\\n','')\n",
        "data[2].replace(r''','')"
      ]
    },
    {
      "cell_type": "code",
      "execution_count": 6,
      "metadata": {
        "colab": {
          "base_uri": "https://localhost:8080/",
          "height": 35
        },
        "id": "26wxypOXGU7q",
        "outputId": "7dcbdee3-5dca-4581-ff6b-e730c769336c"
      },
      "outputs": [
        {
          "data": {
            "application/vnd.google.colaboratory.intrinsic+json": {
              "type": "string"
            },
            "text/plain": [
              "' 30 23 42 5 24 53 64 76 4\\n'"
            ]
          },
          "execution_count": 6,
          "metadata": {},
          "output_type": "execute_result"
        }
      ],
      "source": [
        "timetable = data[1::]\n",
        "timetable[-1]"
      ]
    },
    {
      "cell_type": "markdown",
      "metadata": {
        "id": "LQ8oYNdTYxaH"
      },
      "source": [
        "### 转换成一长条"
      ]
    },
    {
      "cell_type": "code",
      "execution_count": 7,
      "metadata": {
        "id": "AgwpAwPVYIXS"
      },
      "outputs": [],
      "source": [
        "all_timetable=''\n",
        "for i in timetable:\n",
        "  all_timetable = all_timetable + i\n",
        "all_timetable = all_timetable.split()\n",
        "\n",
        "this = []\n",
        "for i in all_timetable:\n",
        "  this.append(int(i))\n",
        "all_timetable = this"
      ]
    },
    {
      "cell_type": "markdown",
      "metadata": {
        "id": "U8UlxR_3OPKM"
      },
      "source": [
        "list_timetable = []\n",
        "for i in range(len(timetable)):\n",
        "  thisline = timetable[i].split()\n",
        "  tmp = []\n",
        "  for j in range(len(thisline)):\n",
        "    tmp.append( int(timetable[i].split()[j]) )\n",
        "  list_timetable.append(tmp)\n",
        "list_timetable"
      ]
    },
    {
      "cell_type": "code",
      "execution_count": 8,
      "metadata": {
        "colab": {
          "base_uri": "https://localhost:8080/"
        },
        "id": "RqppnDLKZq9p",
        "outputId": "a54b065d-0211-48b7-b5b8-ab130ea9be93"
      },
      "outputs": [
        {
          "data": {
            "text/plain": [
              "10000"
            ]
          },
          "execution_count": 8,
          "metadata": {},
          "output_type": "execute_result"
        }
      ],
      "source": [
        "len(all_timetable)"
      ]
    },
    {
      "cell_type": "markdown",
      "metadata": {
        "id": "lTxwR5YVY5GD"
      },
      "source": [
        "### 从一长条转换成scale宽度的矩阵\n",
        "记得检查  \n",
        "还可以用numpy的reshape"
      ]
    },
    {
      "cell_type": "code",
      "execution_count": 9,
      "metadata": {
        "id": "M3aCeIXFEGzQ"
      },
      "outputs": [],
      "source": [
        "import numpy as np\n",
        "import random\n",
        "import matplotlib.pyplot as plt"
      ]
    },
    {
      "cell_type": "code",
      "execution_count": 10,
      "metadata": {
        "colab": {
          "base_uri": "https://localhost:8080/"
        },
        "id": "jF1AzyLwZht_",
        "outputId": "36200fbd-a980-47c1-c964-7771fe286851"
      },
      "outputs": [
        {
          "data": {
            "text/plain": [
              "(100, int)"
            ]
          },
          "execution_count": 10,
          "metadata": {},
          "output_type": "execute_result"
        }
      ],
      "source": [
        "matrix = []\n",
        "for i in range(int(len(all_timetable)/scale)):\n",
        "  tmp = all_timetable[i:i+scale]\n",
        "  matrix.append(tmp)\n",
        "# 检查最后一行有没有满\n",
        "len(matrix[-1]),type(matrix[1][2])"
      ]
    },
    {
      "cell_type": "code",
      "execution_count": 11,
      "metadata": {
        "id": "w1xp6rRaWo6r"
      },
      "outputs": [],
      "source": [
        "# 数组长度不匹配，转换的array 不是二维的，只能是list。\n",
        "# 方法一：分开转换list\n",
        "# 方法二：直接对齐"
      ]
    },
    {
      "cell_type": "code",
      "execution_count": 12,
      "metadata": {
        "colab": {
          "base_uri": "https://localhost:8080/"
        },
        "id": "FgMum3SrbmiW",
        "outputId": "5d035624-a3dc-4977-a9e6-2a4b7c12d5d8"
      },
      "outputs": [
        {
          "data": {
            "text/plain": [
              "(100, 100)"
            ]
          },
          "execution_count": 12,
          "metadata": {},
          "output_type": "execute_result"
        }
      ],
      "source": [
        "time = np.array(matrix)\n",
        "# time.dtype = 'int32'\n",
        "time.shape"
      ]
    },
    {
      "cell_type": "code",
      "execution_count": null,
      "metadata": {
        "id": "HmCWOhU1gnQZ"
      },
      "outputs": [],
      "source": []
    },
    {
      "cell_type": "markdown",
      "metadata": {
        "id": "1SYwJ-Guj655"
      },
      "source": [
        "time"
      ]
    },
    {
      "cell_type": "markdown",
      "metadata": {
        "id": "a3e_AgEsV1cF"
      },
      "source": [
        "\n",
        "time = np.asarray([list_timetable])\n",
        "time"
      ]
    },
    {
      "cell_type": "markdown",
      "metadata": {
        "id": "l9P5_Y78glLu"
      },
      "source": [
        "# 算法"
      ]
    },
    {
      "cell_type": "code",
      "execution_count": 20,
      "metadata": {
        "id": "VV7FAY5zL933"
      },
      "outputs": [],
      "source": [
        "from tqdm import tqdm, trange"
      ]
    },
    {
      "cell_type": "code",
      "execution_count": 16,
      "metadata": {
        "id": "cLQOy3bjAd8F"
      },
      "outputs": [],
      "source": [
        "def get_rand():\n",
        "    select = [x for x in range(100)]\n",
        "    random.shuffle(select)\n",
        "    return select"
      ]
    },
    {
      "cell_type": "code",
      "execution_count": null,
      "metadata": {
        "id": "oPdoUqmPLl-q"
      },
      "outputs": [],
      "source": [
        "def cal_time(rang, time, pop):\n",
        "    sum_time_pop = []\n",
        "    for choice in rang:\n",
        "        single_array_sum_time = 0\n",
        "        for i in range(pop):\n",
        "            cut = choice[i]\n",
        "            single_array_sum_time += time[cut][i]\n",
        "        sum_time_pop.append(single_array_sum_time)\n",
        "    sum_time_pop = np.array(sum_time_pop).reshape(-1, 1)\n",
        "    num = sum_time_pop.shape[0]\n",
        "    return sum_time_pop, num"
      ]
    },
    {
      "cell_type": "code",
      "execution_count": null,
      "metadata": {
        "id": "YbvzuV39MbUT"
      },
      "outputs": [],
      "source": [
        "# 定义一个修饰器函数用来统计函数的运行时间\n",
        "# 参考我的csdn  https://blog.csdn.net/prinTao/article/details/121800857?spm=1001.2014.3001.5501\n",
        "import time\n",
        "def timmer(func):    #传入的参数是一个函数\n",
        "    def deco(*args, **kwargs): #本应传入运行函数的各种参数\n",
        "        print('\\n函数：{_funcname_}开始运行：'.format(_funcname_=func.__name__))\n",
        "        start_time = time.time()#调用代运行的函数，并将各种原本的参数传入\n",
        "        res = func(*args, **kwargs)\n",
        "        end_time = time.time()\n",
        "        print('函数:{_funcname_}运行了 {_time_}秒'\n",
        "              .format(_funcname_=func.__name__, _time_=(end_time - start_time)))\n",
        "        return res#返回值为函数\n",
        "    return deco"
      ]
    },
    {
      "cell_type": "code",
      "execution_count": null,
      "metadata": {
        "colab": {
          "base_uri": "https://localhost:8080/"
        },
        "id": "e39RmBQcDP9r",
        "outputId": "cffc3f0b-4bfd-439f-f6f6-b567670ec068"
      },
      "outputs": [
        {
          "name": "stderr",
          "output_type": "stream",
          "text": [
            "Searching:  18%|█▊        | 175/1000 [06:04<27:27,  2.00s/it]"
          ]
        }
      ],
      "source": [
        "bestpop = []  # 最优种群\n",
        "itertimes = 1000\n",
        "pm = 0.1\n",
        "pc = 0.8\n",
        "# 种群数量\n",
        "magnit = 1000\n",
        "# 个体数量\n",
        "pop = (time.shape)[1]\n",
        "# 初始化种群\n",
        "rang = np.zeros((magnit, pop), int)\n",
        "for i in range(magnit):\n",
        "    select = [x for x in range(scale)]\n",
        "    random.shuffle(select)\n",
        "    rang[i, :] = select\n",
        "\n",
        "for count in tqdm(range(itertimes), desc='Searching'):\n",
        "\n",
        "    # 计算每一种分配的总value\n",
        "    sum_time_pop = []\n",
        "    for choice in rang:\n",
        "        single_array_sum_time = 0\n",
        "        for i in range(pop):\n",
        "            cut = choice[i]\n",
        "            single_array_sum_time += time[cut][i]\n",
        "        sum_time_pop.append(single_array_sum_time)\n",
        "    sum_time_pop = np.array(sum_time_pop).reshape(-1, 1)\n",
        "    num = sum_time_pop.shape[0]\n",
        "\n",
        "    # 排序\n",
        "    index = np.argsort(sum_time_pop, 0)\n",
        "    sum_time_pop = sum_time_pop[index].reshape(num, 1)[0:magnit, :]\n",
        "    rang = rang[index].reshape(num, pop)[0:magnit, :]\n",
        "\n",
        "    # 计算适值和适应度\n",
        "    fit = 1000 - sum_time_pop[:]        # 适值\n",
        "    fitplus = np.cumsum(fit).reshape(-1, 1)  # 适值向下叠加\n",
        "    # print(fitplus[magnit-1, :])\n",
        "    total_fit_value = fitplus[:] / fitplus[magnit - 1, :]  # 适应度向下叠加\n",
        "    total_fit_value = np.insert(total_fit_value, 0, np.array([0]), 0)  # 在第一行添加0\n",
        "\n",
        "    # 选择\n",
        "    new_solution = []\n",
        "    new_sum_time = []\n",
        "    for _ in range(magnit):\n",
        "        rand = random.random()\n",
        "        for individual in range(magnit):\n",
        "            if rand > total_fit_value[individual, :] and rand < total_fit_value[individual + 1, :]:\n",
        "                new_solution.append(rang[individual, :])\n",
        "                new_sum_time.append(sum_time_pop[individual, :])\n",
        "                continue\n",
        "    new_solution = np.array(new_solution)\n",
        "    prechoose = new_solution.copy()\n",
        "    new_sum_time = np.array(new_sum_time)\n",
        "    # 交叉\n",
        "    for individual in range(0, (np.shape(new_solution))[0], 2):\n",
        "        if pc > random.random():\n",
        "            chrome_a = new_solution[individual, :].copy()\n",
        "            chrome_b = new_solution[individual + 1, :].copy()\n",
        "            select = [x for x in range(10)]\n",
        "            random.shuffle(select)\n",
        "            this_A = select[0]\n",
        "            this_B = select[1]\n",
        "            this_A, this_B = min(this_A, this_B), max(this_A, this_B)\n",
        "            cthis_A, cthis_B = chrome_a[this_A:this_B + 1].copy(), chrome_b[this_A:this_B + 1].copy()\n",
        "            # print(this_A, this_B, cthis_A, cthis_B)\n",
        "            for site in range(this_B - this_A + 1):\n",
        "                s1 = np.where(chrome_a == cthis_B[site])\n",
        "                chrome_a[s1] = (chrome_a[this_A:this_B + 1])[site].copy()\n",
        "                a = chrome_a\n",
        "            for site in range(this_B - this_A + 1):\n",
        "                s2 = np.where(chrome_b == cthis_A[site])\n",
        "                chrome_b[s2] = (chrome_b[this_A:this_B + 1])[site].copy()\n",
        "                b = chrome_b\n",
        "            chrome_a[this_A:this_B + 1] = cthis_B.copy()\n",
        "            chrome_b[this_A:this_B + 1] = cthis_A.copy()\n",
        "            new_solution[individual, :] = chrome_a.copy()\n",
        "            new_solution[individual + 1, :] = chrome_b.copy()\n",
        "    # 变异\n",
        "    for individual in range(0, (np.shape(new_solution))[0]):\n",
        "        if pm > random.random():\n",
        "            select = [x for x in range(10)]\n",
        "            random.shuffle(select)\n",
        "            this_A = select[0]\n",
        "            this_B = select[1]\n",
        "            gen = new_solution[individual, :]\n",
        "            gen[this_A], gen[this_B] = gen[this_B], gen[this_A]\n",
        "            new_solution[individual, :] = gen.copy()\n",
        "    rang = np.append(prechoose, new_solution, 0)\n",
        "    bestpop.append(sum_time_pop[0, :])\n",
        "    \n",
        "bestpop = np.array(bestpop)\n",
        "print(sum_time_pop[0, :])\n",
        "print(rang[0, :])\n",
        "\n",
        "x = [a for a in range(1,1+itertimes)]\n",
        "y = bestpop\n",
        "plt.plot(x,y)\n",
        "plt.xlabel('iter')\n",
        "plt.ylabel('time')\n",
        "plt.show()\n"
      ]
    }
  ],
  "metadata": {
    "colab": {
      "collapsed_sections": [],
      "name": "遗传算法解决指派问题.ipynb",
      "provenance": []
    },
    "kernelspec": {
      "display_name": "Python 3",
      "name": "python3"
    },
    "language_info": {
      "name": "python"
    }
  },
  "nbformat": 4,
  "nbformat_minor": 0
}
